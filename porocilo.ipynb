{
 "cells": [
  {
   "cell_type": "markdown",
   "metadata": {},
   "source": [
    "### Analiza evidence registracij prevoznih sredstev: ###\n",
    "# Okolju prijazna mobilnost #"
   ]
  },
  {
   "cell_type": "markdown",
   "metadata": {},
   "source": [
    "### Avtorji: ###\n",
    "* Erazem Bršar (63170066)\n",
    "* Marjan Mohar (63170206)\n",
    "* Miha Petrišič (63170400)\n",
    "* Urban Lipovž (63170180)"
   ]
  },
  {
   "cell_type": "markdown",
   "metadata": {},
   "source": [
    "## Uvod ##\n",
    "Za projekt smo se odločili analizirati navade Slovencev pri nakupovanju vozil. V zadnjih letih postaja spodbuda k okolju prijaznejši prihodnosti vse močnejša. Iz tega razloga smo se odločili, da preverimo, če so se tudi v Sloveniji spremenile navade kupcev k bolj okolju prijaznejšim vozilom."
   ]
  },
  {
   "cell_type": "markdown",
   "metadata": {},
   "source": [
    "# Množica podatkov # \n",
    "\n",
    "Množica podatkov katere bomo analizirali je zbrana in dostopna na spletnem naslovu: https://podatki.gov.si/dataset/evidenca-registriranih-vozil-presek-stanja?fbclid=IwAR3tk-7tfb6D0-MFjl5d2yLmr50A359rMPq5nalTZSxpR3ToOh-O3R-TV0g\n",
    "\n",
    "Objavljena je bila s strani ministrstva za infrastrukturo in vključuje evidence registriranih vozil po letih v Sloveniji. Množica vsebuje različne podatke o samem vozilu (karakteristike, izvor, naziv ipd.) ter tudi atribute o samem uporabniku vozila.\n",
    "\n",
    "Zastavili smo si cilj prikazati podatke na čim bolj preprost ter pregleden način za tiste, ki se zanimajo za takšno statistiko. Namen je prikazat kakšna vozila vozijo Slovenci ter spreminjanje nekaterih navad kupovanja vozil skozi čas (npr. ali skozi čas narašča priljubljenost bolj okoljevarstvenih vozil ipd.). Statistiko bomo poskušali prikazati s pomočjo različnih vizualizacijskih tehnik. Poleg že obstoječih običajnih tehnik, bomo poskušali uporabiti tudi nekatere nove (npr. 'heatmap' Slovenije glede na nek atribut)."
   ]
  },
  {
   "cell_type": "markdown",
   "metadata": {},
   "source": [
    "# Atributi #\n",
    "Ker smo se odločili za okoljevarstveno obarvano temo, smo temu tudi izbrali primerne atribute za analizo.\n",
    "Nekateri izmed pomembnih atributov:\n",
    "* emisije CO2\n",
    "* emisije NOx\n",
    "* emisije HC\n",
    "* emisije CO\n",
    "* tip goriva\n",
    "* okoljevarstvena oznaka"
   ]
  },
  {
   "cell_type": "markdown",
   "metadata": {},
   "source": [
    "# Branje podatkov #\n",
    "Naši podatki se nahajajo v .csv datoteki. Ker nekaterih atributov ne bomo potrebovali smo najprej preoblikovali datoteko tako, da smo se znebili odvečnih stolpcev/atributov. Ker je bila prvotna datoteka prevelika, smo jo razdelili na dve manjši.\n",
    "\n",
    "Koda za branje datoteke:"
   ]
  },
  {
   "cell_type": "code",
   "execution_count": 1,
   "metadata": {},
   "outputs": [],
   "source": [
    "from csv import DictReader\n",
    "dict_reader = DictReader(open('podatki1.csv', \"r\", encoding=\"ISO-8859-2\"), skipinitialspace=True, delimiter=\";\")"
   ]
  },
  {
   "cell_type": "markdown",
   "metadata": {},
   "source": [
    "Datoteko beremo s pomočjo razreda DictReader iz knjižnice csv. Parametri podani za najučinkovitejšo branje datoteke so:\n",
    "\n",
    "* naslov same datoteke oz. pot do nje\n",
    "* parameter \"r\" nam pove, da želimo datoteko prebrati\n",
    "* encoding=\"ISO-8859-2\" parameter omogoče branje večine znakov v naši datoteki\n",
    "* skipinitialspace=True ignorira beli prostor po razdelilnem znaku\n",
    "* delimiter=\";\" pa določa razdelilni znak"
   ]
  },
  {
   "cell_type": "markdown",
   "metadata": {},
   "source": [
    "# Analiza podatkov #"
   ]
  },
  {
   "cell_type": "markdown",
   "metadata": {},
   "source": [
    "### Okolju prijazni glede na starost in spol ###\n",
    "Vprašali smo se, če starost ali spol vplivata pri nakupovanju okolju prijaznejših avtomobilov?\n",
    "Najprej smo naredili 6 starostnih skupin, s tem da prva skupina vkljuèuje vse osebe mlajše od 20 let,\n",
    "zadnja pa vse osebe starejše od 61 let, ostale skupine so pa razdeljne na vsakih 10 let.\n",
    "Kako okolju prijazne avtomobile so kupovali, smo pa izmerili tako, da smo za vsako starostno skupino izračunali povprečje CO2 emisij pri kupljenih osebnih avtomobilih.\n",
    "\n",
    "Enako kot pri starosti, smo naredili 2 skupini (Moški/Ženske) ter glede na nakupe avtomobilou izračunali povprečje CO2 emisij.\n",
    "\n",
    "Izkazalo se je, da ne starost, ne spol ne vplivata veliko pri nakupu okolju prijaznejših avtomobilih, saj v obeh primerih nismo\n",
    "videli velikih odstopanj. Starostna skupina med 21-30 leti in moški so pri nakupavanju avtomobilov malo bolj pazljivi na vpliv emisij na okolje, kot druge skupine/spol."
   ]
  },
  {
   "cell_type": "markdown",
   "metadata": {},
   "source": [
    "<img src=\"Slike/Spol.png\" style=\"width:70%\">"
   ]
  },
  {
   "cell_type": "markdown",
   "metadata": {},
   "source": [
    "<img src=\"Slike/Starost.png\" style=\"width:70%\">"
   ]
  },
  {
   "cell_type": "markdown",
   "metadata": {},
   "source": [
    "Zanimalo nas je, kako se poraba (Dizel/Bencin) pri osebnih avtomobilih skozi leta izdelave zmanjšuje ali povečuje.\n",
    "Za vsako leto, ki ima veè kot 200 izdelanih avtomobilov, smo izračunali povprečno porabo določenga goriva.\n",
    "\n",
    "Rezultat Bencin: Kot pričakovano, se poraba pri osebnih avtomobilih na bencin skozi leta zmanjšuje z redkimi povzdigi.\n",
    "Rezultat Dizel: Poraba dizelskega goriva je nižja od porabe bencina, ampak ima več izstopanj skozi leta. Iz leta 2010 v 2011, povprečna poraba močno poskoči."
   ]
  },
  {
   "cell_type": "markdown",
   "metadata": {},
   "source": [
    "<img src=\"Slike/Bencin.png\" style=\"width:70%\">"
   ]
  },
  {
   "cell_type": "markdown",
   "metadata": {},
   "source": [
    "<img src=\"Slike/Dizel.png\" style=\"width:70%; height: 50%\">"
   ]
  },
  {
   "cell_type": "markdown",
   "metadata": {},
   "source": [
    "### Evropski emisijski standard ##\n",
    "Evropski emisijski standardi definirajo dovoljene meje izpušnih emisij novih vozil. Z vsako novo okoljevarstveno oznako, se poskuša zmanjšati količino izpustov določenih plinov (CO, NOx, HC...). Najnovejša uveljavljena oznaka je EURO 6 iz leta 2014.\n",
    "\n",
    "S spodnjo preglednico smo prikazali točne datume, ko je bilo prvič registrirano vozilo posamezne oznake. Na ta način lahko tudi po času preverimo kako dolgo je poteklo od prve registracije v Slovenije od ene oznake, do naslednje."
   ]
  },
  {
   "cell_type": "markdown",
   "metadata": {},
   "source": [
    "<img src=\"Slike/Prve registr po emis oznakah.png\">"
   ]
  },
  {
   "cell_type": "markdown",
   "metadata": {},
   "source": [
    "Spodnja vizualizacija prikazuje gostoto, kako pogosto so uporabniki registrirali vozilo po emisijskih oznakah. Prikazanih je 7 najbolj pogostih oznak. Pri vizualizaciji smo uporabili najprej le 1 podatkovno bazo, kasneje pa 2 - naključno razdeljene ... ob uporabi le ene podatkovne baze, smo dobili nekaj EURO oznak ter še nekaj ostalih ...; ko pa smo uporabili oba, so postale najpogostejše le EURO oznake."
   ]
  },
  {
   "cell_type": "markdown",
   "metadata": {},
   "source": [
    "<img src=\"Slike/pogOznake.png\">"
   ]
  },
  {
   "cell_type": "markdown",
   "metadata": {},
   "source": [
    "### Emisije glede na okoljevarstveno oznako ###\n",
    "Postopno zniževanje posameznih tipov emisij smo prikazali s štirimi grafi. Iz njih lahko razberemo, da se z novejšimi okoljevarstvenimi oznakami zmanjšuje povprečna količina emisij. "
   ]
  },
  {
   "cell_type": "markdown",
   "metadata": {},
   "source": [
    "<img src=\"Slike/OznakeIzpusti.png\">"
   ]
  },
  {
   "cell_type": "markdown",
   "metadata": {},
   "source": [
    "### Okoljevarstvene oznake skozi leta ###\n",
    "Sestavili smo graf, ki prikazuje količine novih registracij vozil skozi leta glede na njihovo okoljevarstveno oznako. Na grafu smo z navpičnimi črtami označili kaj približno se je uveljavil določen emisijski standard. "
   ]
  },
  {
   "cell_type": "markdown",
   "metadata": {},
   "source": [
    "Zaradi novih standardov in splošne spodbude za iskanje okolju prijaznejših rešitev smo sklepali, da se bo povprečna količina emisij z leti zmanjševala. Lahko opazimo, da na približno vsake štiri leta pride v veljavo nov standard. Razvidno je tudi to, da se z leti počasi povečuje nakup vozil. Po uveljavitvi novega standarda vidimo, da se registracija vozil s prejšno okoljevarstveno oznako skoraj nemudoma zmanjša. Opazno je tudi, da imajo vse krivulje približno enako obliko. Registracija vozil ponavadi poteka v začetnih mesecih leta, zato na grafu opazimo špice na teh delih."
   ]
  },
  {
   "cell_type": "markdown",
   "metadata": {},
   "source": [
    "<img src=\"Slike/OznakeLeta.png\">"
   ]
  },
  {
   "cell_type": "markdown",
   "metadata": {},
   "source": [
    "### Emisije CO2 skozi leta ###\n",
    "Pri okoljevarstvu velikokrat slišimo o vplivu CO2 na naše okolje. Velik delež tega prihaja iz prevoznih sredstev, zato nas je zanimalo, kako so se emisije CO2 skozi leta spreminjale v Sloveniji.\n",
    "\n",
    "Za vsako leto smo vzeli povprečen izpust CO2 registriranih vozil. Kot je razvidno iz grafa, se postopoma linearno zmanjšuje povprečen izpust CO2 novoregistriranih vozil. Pri tem pa moramo tudi paziti, saj kljub temu, da novejša vozila spuščajo manj CO2 v okolje, vseeno narašča število vozil nasploh, kar je razvidno iz prejšnjega grafa. Zato se je vredno vprašati kaj je dandanes večji problem: premalo okolju prijaznih avtomobilov ali prevelik nakup avtomobilov nasploh."
   ]
  },
  {
   "cell_type": "markdown",
   "metadata": {},
   "source": [
    "<img align=\"left\" src=\"Slike/CO2Leta.png\">"
   ]
  },
  {
   "cell_type": "markdown",
   "metadata": {},
   "source": [
    "### Število registracij električnih avtomobilov ###\n",
    "Zanimalo nas je tudi, kako se spreminja trend v nakupovanju električnih osebnih avtomobilov v Sloveniji. Sestavili smo graf, ki ta trend ponazarja skozi leta. Opazimo lahko, da se je nakup električnih vozil v zadnjih letih eksponentno povečal. Razlogov za to je več. Največji je verjetno ponudba subvencij, ki jih vlada v zadnjih letih ponuja za električna vozila. \n",
    "Ker se najnovejša tehnologija čedalje težje spopada z nižanjem izpuha emisij v ozračje, predstavljajo električni avtomobilni alternativno okolju prijazno rešitev. "
   ]
  },
  {
   "cell_type": "markdown",
   "metadata": {},
   "source": [
    "<img align=\"left\" src=\"Slike/ElLeta.png\">"
   ]
  },
  {
   "cell_type": "markdown",
   "metadata": {},
   "source": [
    "## Zaključek ##\n",
    "Iz vizualizacij je razvidno, da imajo novejši avtomobili manj izpustov emisij ter so tako okolju prijaznejši. Vredno pa je tudi omeniti, da se v zadnjih letih količina emisij sicer zmanjšuje, vendar vedno bolj počasneje, kar je razvidno na grafu, ki prikazuje povprečne izpuste CO2 vozil skozi leta. Morda je razlog v vse počasnejšem padanju količine emisij to, da nove tehnologije niso zmožne še bolj znižati emisij brez, da bi zmanjšali učinkovitost vozila. Rešitev temu pa lahko predstavljajo električni avtomobili, katerih popularnost v zadnjih letih eksponentno raste. Vredno je tudi omeniti to, da čeprav nam modernejše tehnologije omogočajo proizvedbo vozil z manjšim izpustom, se sama količina avtomobilov povečuje. To je morebiti eden izmed problemov, ki ga je tudi vredno omeniti, če si želimo prizadevati za okolju lepšo prihodnost."
   ]
  }
 ],
 "metadata": {
  "kernelspec": {
   "display_name": "Python 3",
   "language": "python",
   "name": "python3"
  },
  "language_info": {
   "codemirror_mode": {
    "name": "ipython",
    "version": 3
   },
   "file_extension": ".py",
   "mimetype": "text/x-python",
   "name": "python",
   "nbconvert_exporter": "python",
   "pygments_lexer": "ipython3",
   "version": "3.7.2"
  }
 },
 "nbformat": 4,
 "nbformat_minor": 2
}
